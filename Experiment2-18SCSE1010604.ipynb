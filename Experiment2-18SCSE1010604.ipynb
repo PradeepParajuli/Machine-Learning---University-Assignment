{
 "cells": [
  {
   "cell_type": "markdown",
   "metadata": {},
   "source": [
    "# Experiment 2\n",
    "         Python Tutorial With Jupyter Notebook"
   ]
  },
  {
   "cell_type": "markdown",
   "metadata": {},
   "source": [
    ".\n",
    "\n",
    "\n",
    "QuickSort"
   ]
  },
  {
   "cell_type": "code",
   "execution_count": 3,
   "metadata": {},
   "outputs": [
    {
     "name": "stdout",
     "output_type": "stream",
     "text": [
      "[1, 1, 2, 3, 6, 8, 10]\n"
     ]
    }
   ],
   "source": [
    "def quicksort(arr):\n",
    "    if len(arr) <= 1:\n",
    "        return arr\n",
    "    \n",
    "    pivot = arr[len(arr) // 2]\n",
    "    left = [x for x in arr if x < pivot]\n",
    "    middle = [x for x in arr if x == pivot]\n",
    "    \n",
    "    right = [x for x in arr if x > pivot]\n",
    "    return quicksort(left) + middle + quicksort(right)\n",
    "print(quicksort([3,6,8,10,1,2,1]))"
   ]
  },
  {
   "cell_type": "markdown",
   "metadata": {},
   "source": [
    "  "
   ]
  },
  {
   "cell_type": "markdown",
   "metadata": {},
   "source": [
    ".\n",
    "\n",
    "Tuples"
   ]
  },
  {
   "cell_type": "code",
   "execution_count": 19,
   "metadata": {},
   "outputs": [
    {
     "name": "stdout",
     "output_type": "stream",
     "text": [
      "<class 'tuple'>\n",
      "5\n",
      "1\n"
     ]
    }
   ],
   "source": [
    "d = {(x,x+1): x for x in range(10)} # creating a tuple with tuple keys\n",
    "t = (5,6)\n",
    "print(type(t))\n",
    "print(d[t])\n",
    "print(d[(1,2)])"
   ]
  },
  {
   "cell_type": "markdown",
   "metadata": {},
   "source": [
    ".\n",
    "\n",
    "\n",
    "\n",
    "### Numpy"
   ]
  },
  {
   "cell_type": "code",
   "execution_count": 31,
   "metadata": {},
   "outputs": [],
   "source": [
    "import numpy as np"
   ]
  },
  {
   "cell_type": "code",
   "execution_count": 33,
   "metadata": {},
   "outputs": [
    {
     "name": "stdout",
     "output_type": "stream",
     "text": [
      "<class 'numpy.ndarray'>\n",
      "[5 2 3]\n"
     ]
    }
   ],
   "source": [
    "a = np.array([1,2,3])\n",
    "print(type(a))\n",
    "\n",
    "a[0] = 5\n",
    "print(a)"
   ]
  },
  {
   "cell_type": "code",
   "execution_count": 35,
   "metadata": {},
   "outputs": [
    {
     "data": {
      "text/plain": [
       "array([[1, 2, 3],\n",
       "       [4, 4, 5]])"
      ]
     },
     "execution_count": 35,
     "metadata": {},
     "output_type": "execute_result"
    }
   ],
   "source": [
    "b = np.array([[1,2,3],[4,4,5]])\n",
    "b"
   ]
  },
  {
   "cell_type": "code",
   "execution_count": 37,
   "metadata": {},
   "outputs": [
    {
     "data": {
      "text/plain": [
       "(2, 3)"
      ]
     },
     "execution_count": 37,
     "metadata": {},
     "output_type": "execute_result"
    }
   ],
   "source": [
    "b.shape"
   ]
  },
  {
   "cell_type": "code",
   "execution_count": 38,
   "metadata": {},
   "outputs": [
    {
     "name": "stdout",
     "output_type": "stream",
     "text": [
      "[[0. 0. 0. 0. 0.]\n",
      " [0. 0. 0. 0. 0.]\n",
      " [0. 0. 0. 0. 0.]\n",
      " [0. 0. 0. 0. 0.]\n",
      " [0. 0. 0. 0. 0.]\n",
      " [0. 0. 0. 0. 0.]\n",
      " [0. 0. 0. 0. 0.]\n",
      " [0. 0. 0. 0. 0.]\n",
      " [0. 0. 0. 0. 0.]\n",
      " [0. 0. 0. 0. 0.]]\n"
     ]
    },
    {
     "data": {
      "text/plain": [
       "(10, 5)"
      ]
     },
     "execution_count": 38,
     "metadata": {},
     "output_type": "execute_result"
    }
   ],
   "source": [
    "a = np.zeros((10,5))\n",
    "print(a)\n",
    "a.shape"
   ]
  },
  {
   "cell_type": "code",
   "execution_count": 39,
   "metadata": {},
   "outputs": [
    {
     "name": "stdout",
     "output_type": "stream",
     "text": [
      "[[1. 1. 1. 1. 1.]\n",
      " [1. 1. 1. 1. 1.]\n",
      " [1. 1. 1. 1. 1.]\n",
      " [1. 1. 1. 1. 1.]\n",
      " [1. 1. 1. 1. 1.]\n",
      " [1. 1. 1. 1. 1.]\n",
      " [1. 1. 1. 1. 1.]\n",
      " [1. 1. 1. 1. 1.]\n",
      " [1. 1. 1. 1. 1.]\n",
      " [1. 1. 1. 1. 1.]]\n"
     ]
    },
    {
     "data": {
      "text/plain": [
       "(10, 5)"
      ]
     },
     "execution_count": 39,
     "metadata": {},
     "output_type": "execute_result"
    }
   ],
   "source": [
    "o = np.ones((10,5))\n",
    "print(o)\n",
    "o.shape"
   ]
  },
  {
   "cell_type": "code",
   "execution_count": 43,
   "metadata": {},
   "outputs": [
    {
     "name": "stdout",
     "output_type": "stream",
     "text": [
      "[[7 7 7 7 7]\n",
      " [7 7 7 7 7]\n",
      " [7 7 7 7 7]\n",
      " [7 7 7 7 7]\n",
      " [7 7 7 7 7]\n",
      " [7 7 7 7 7]\n",
      " [7 7 7 7 7]\n",
      " [7 7 7 7 7]\n",
      " [7 7 7 7 7]\n",
      " [7 7 7 7 7]]\n"
     ]
    },
    {
     "data": {
      "text/plain": [
       "(10, 5)"
      ]
     },
     "execution_count": 43,
     "metadata": {},
     "output_type": "execute_result"
    }
   ],
   "source": [
    "f = np.full((10,5), 7)\n",
    "print(f)\n",
    "f.shape"
   ]
  },
  {
   "cell_type": "code",
   "execution_count": 46,
   "metadata": {},
   "outputs": [
    {
     "name": "stdout",
     "output_type": "stream",
     "text": [
      "[[1. 0. 0. 0. 0. 0. 0. 0. 0. 0.]\n",
      " [0. 1. 0. 0. 0. 0. 0. 0. 0. 0.]\n",
      " [0. 0. 1. 0. 0. 0. 0. 0. 0. 0.]\n",
      " [0. 0. 0. 1. 0. 0. 0. 0. 0. 0.]\n",
      " [0. 0. 0. 0. 1. 0. 0. 0. 0. 0.]\n",
      " [0. 0. 0. 0. 0. 1. 0. 0. 0. 0.]\n",
      " [0. 0. 0. 0. 0. 0. 1. 0. 0. 0.]\n",
      " [0. 0. 0. 0. 0. 0. 0. 1. 0. 0.]\n",
      " [0. 0. 0. 0. 0. 0. 0. 0. 1. 0.]\n",
      " [0. 0. 0. 0. 0. 0. 0. 0. 0. 1.]]\n"
     ]
    },
    {
     "data": {
      "text/plain": [
       "(10, 10)"
      ]
     },
     "execution_count": 46,
     "metadata": {},
     "output_type": "execute_result"
    }
   ],
   "source": [
    "eye_arr = np.eye(10) # creats idendity array of size n*n\n",
    "print(eye_arr)\n",
    "eye_arr.shape"
   ]
  },
  {
   "cell_type": "code",
   "execution_count": 47,
   "metadata": {},
   "outputs": [
    {
     "name": "stdout",
     "output_type": "stream",
     "text": [
      "[[0.69954007 0.45837615 0.41629942 0.69320794 0.20618245]\n",
      " [0.02715137 0.13750214 0.94556639 0.08377465 0.90461869]\n",
      " [0.81170073 0.49899057 0.01860931 0.04265445 0.8803663 ]\n",
      " [0.40095367 0.25641798 0.86047647 0.57570875 0.24956034]\n",
      " [0.85808286 0.39194284 0.14756109 0.32219028 0.63914375]\n",
      " [0.31099008 0.83929517 0.90890571 0.56189254 0.53884059]\n",
      " [0.3717643  0.03239185 0.65024084 0.94660449 0.89945929]\n",
      " [0.90657416 0.20638346 0.33796329 0.91336018 0.18141071]\n",
      " [0.15466639 0.8596812  0.53200341 0.51622422 0.07774138]\n",
      " [0.20797866 0.38226771 0.68938018 0.41491122 0.6136462 ]]\n"
     ]
    },
    {
     "data": {
      "text/plain": [
       "(10, 5)"
      ]
     },
     "execution_count": 47,
     "metadata": {},
     "output_type": "execute_result"
    }
   ],
   "source": [
    "random_arr = np.random.random((10,5))\n",
    "print(random_arr)\n",
    "random_arr.shape"
   ]
  },
  {
   "cell_type": "code",
   "execution_count": 71,
   "metadata": {},
   "outputs": [
    {
     "name": "stdout",
     "output_type": "stream",
     "text": [
      "[[7 7 7 7 7]\n",
      " [7 7 7 7 7]\n",
      " [7 7 7 7 7]\n",
      " [7 7 7 7 7]\n",
      " [7 7 7 7 7]\n",
      " [7 7 7 7 7]\n",
      " [7 7 7 7 7]\n",
      " [7 7 7 7 7]\n",
      " [7 7 7 7 7]\n",
      " [7 7 7 7 7]]\n",
      "\n",
      "\n",
      " Shape:  (10, 5)\n",
      "[[[7 7 7 7 7]\n",
      "  [7 7 7 7 7]]\n",
      "\n",
      " [[7 7 7 7 7]\n",
      "  [7 7 7 7 7]]\n",
      "\n",
      " [[7 7 7 7 7]\n",
      "  [7 7 7 7 7]]\n",
      "\n",
      " [[7 7 7 7 7]\n",
      "  [7 7 7 7 7]]\n",
      "\n",
      " [[7 7 7 7 7]\n",
      "  [7 7 7 7 7]]]\n",
      "(5, 2, 5)\n"
     ]
    }
   ],
   "source": [
    "arr = np.full((10,5), 7)\n",
    "print(arr)\n",
    "print(\"\\n\\n Shape: \",arr.shape)\n",
    "arr = arr.reshape(5,2,5)\n",
    "print(arr)\n",
    "print(arr.shape)"
   ]
  },
  {
   "cell_type": "code",
   "execution_count": 89,
   "metadata": {},
   "outputs": [
    {
     "name": "stdout",
     "output_type": "stream",
     "text": [
      "[0.8131921  0.90074373]  ->  [False False]\n",
      "[0.01727121 0.65607815]  ->  [ True False]\n",
      "[0.96149834 0.54570329]  ->  [False False]\n",
      "[0.97315644 0.04547806]  ->  [False  True]\n",
      "[0.75098118 0.74744076]  ->  [False False]\n",
      "[0.93739405 0.6840578 ]  ->  [False False]\n",
      "[0.13242254 0.1844464 ]  ->  [ True  True]\n"
     ]
    }
   ],
   "source": [
    "rand_arr = np.random.random((7,2))\n",
    "\n",
    "arr = rand_arr < 0.5\n",
    "\n",
    "for i in range(len(arr)):\n",
    "    print(rand_arr[i],\" -> \",arr[i])\n"
   ]
  },
  {
   "cell_type": "markdown",
   "metadata": {},
   "source": [
    "\n",
    "\n",
    "\n"
   ]
  },
  {
   "cell_type": "markdown",
   "metadata": {},
   "source": [
    "### Array Math\n",
    "\n",
    "Basic mathematical functions operate elementwise on arrays, and are available both as operator overloads and as functions in the numpy module"
   ]
  },
  {
   "cell_type": "code",
   "execution_count": 93,
   "metadata": {},
   "outputs": [
    {
     "name": "stdout",
     "output_type": "stream",
     "text": [
      "\n",
      "\n",
      " X: \n",
      " [[6 0 2 6 8]\n",
      " [7 4 2 3 1]]\n",
      "\n",
      "\n",
      " Y: \n",
      " [[8 7 1 6 3]\n",
      " [2 5 5 4 5]]\n",
      "\n",
      "\n",
      " X+Y: \n",
      " [[14  7  3 12 11]\n",
      " [ 9  9  7  7  6]]\n"
     ]
    }
   ],
   "source": [
    "x = np.random.randint((9,9,9,9,9,9,9,9,9,9)).reshape(2,5)\n",
    "y = np.random.randint((9,9,9,9,9,9,9,9,9,9)).reshape(2,5)\n",
    "\n",
    "print(\"\\n\\n X: \\n\",x)\n",
    "print(\"\\n\\n Y: \\n\",y)\n",
    "\n",
    "print(\"\\n\\n X+Y: \\n\",np.add(x,y))"
   ]
  },
  {
   "cell_type": "code",
   "execution_count": 95,
   "metadata": {},
   "outputs": [
    {
     "name": "stdout",
     "output_type": "stream",
     "text": [
      "\n",
      "\n",
      " X: \n",
      " [[6 0 2 6 8]\n",
      " [7 4 2 3 1]]\n",
      "\n",
      "\n",
      " Y: \n",
      " [[8 2]\n",
      " [7 5]\n",
      " [1 5]\n",
      " [6 4]\n",
      " [3 5]]\n",
      "\n",
      "\n",
      " X*Y: \n",
      " [[110  86]\n",
      " [107  61]]\n"
     ]
    }
   ],
   "source": [
    "# multiplication\n",
    "\n",
    "print(\"\\n\\n X: \\n\",x)\n",
    "print(\"\\n\\n Y: \\n\",y.T)\n",
    "\n",
    "print(\"\\n\\n X*Y: \\n\",np.dot(x,y.T))"
   ]
  },
  {
   "cell_type": "code",
   "execution_count": 98,
   "metadata": {},
   "outputs": [
    {
     "name": "stdout",
     "output_type": "stream",
     "text": [
      "\n",
      "\n",
      " X: \n",
      " [[6 0 2 6 8]\n",
      " [7 4 2 3 1]]\n",
      "\n",
      "\n",
      " sum(X): \n",
      " 39\n",
      "\n",
      "\n",
      " sum(X, axis=0): \n",
      " [13  4  4  9  9]\n",
      "\n",
      "\n",
      " sum(X, axis=1): \n",
      " [22 17]\n"
     ]
    }
   ],
   "source": [
    "print(\"\\n\\n X: \\n\",x)\n",
    "print(\"\\n\\n sum(X): \\n\",np.sum(x))\n",
    "print(\"\\n\\n sum(X, axis=0): \\n\",np.sum(x, axis=0))\n",
    "print(\"\\n\\n sum(X, axis=1): \\n\",np.sum(x, axis=1))\n"
   ]
  },
  {
   "cell_type": "code",
   "execution_count": 99,
   "metadata": {},
   "outputs": [
    {
     "name": "stdout",
     "output_type": "stream",
     "text": [
      "\n",
      "\n",
      " x: \n",
      " [[6 0 2 6 8]\n",
      " [7 4 2 3 1]]\n",
      "\n",
      "\n",
      " x.T: \n",
      " [[6 7]\n",
      " [0 4]\n",
      " [2 2]\n",
      " [6 3]\n",
      " [8 1]]\n"
     ]
    }
   ],
   "source": [
    "print(\"\\n\\n x: \\n\",x)\n",
    "print(\"\\n\\n x.T: \\n\",x.T)"
   ]
  },
  {
   "cell_type": "markdown",
   "metadata": {},
   "source": [
    ".\n",
    "\n",
    "\n",
    "\n",
    "### Broadcasting\n",
    "\n",
    "Broadcasting is a powerful mechanism that allows numpy to work with arrays of different shapes when performing arithmetic operations. Frequently we have a smaller array and a larger array, and we want to use the smaller array multiple times to perform some operation on the larger array. \n",
    "\n"
   ]
  },
  {
   "cell_type": "code",
   "execution_count": 101,
   "metadata": {},
   "outputs": [
    {
     "name": "stdout",
     "output_type": "stream",
     "text": [
      "\n",
      "\n",
      " x: \n",
      " [[6 0 2 6 8]\n",
      " [7 4 2 3 1]]\n",
      "\n",
      "\n",
      " x + x[1]: \n",
      " [[13  4  4  9  9]\n",
      " [14  8  4  6  2]]\n"
     ]
    }
   ],
   "source": [
    "print(\"\\n\\n x: \\n\",x)\n",
    "print(\"\\n\\n x + x[1]: \\n\", x + x[1])"
   ]
  },
  {
   "cell_type": "code",
   "execution_count": 116,
   "metadata": {},
   "outputs": [
    {
     "data": {
      "text/plain": [
       "array([[ 1621000272,           0,  1621000400,           0, -2079930048],\n",
       "       [        621, -2079960568,         621, -2112187168,         621]])"
      ]
     },
     "execution_count": 116,
     "metadata": {},
     "output_type": "execute_result"
    }
   ],
   "source": [
    "# creat a random array of same shape as x\n",
    "\n",
    "cc = np.empty_like(x)\n",
    "cc"
   ]
  },
  {
   "cell_type": "code",
   "execution_count": 121,
   "metadata": {},
   "outputs": [
    {
     "data": {
      "text/plain": [
       "array([[0, 1, 2, 0, 1, 2],\n",
       "       [0, 1, 2, 0, 1, 2],\n",
       "       [0, 1, 2, 0, 1, 2],\n",
       "       [0, 1, 2, 0, 1, 2],\n",
       "       [0, 1, 2, 0, 1, 2]])"
      ]
     },
     "execution_count": 121,
     "metadata": {},
     "output_type": "execute_result"
    }
   ],
   "source": [
    "\n",
    "v = np.array([0,1,2])\n",
    "\n",
    "# making copy of array\n",
    "vv = np.tile(v , (5,2))\n",
    "\n",
    "vv"
   ]
  },
  {
   "cell_type": "markdown",
   "metadata": {},
   "source": [
    ".\n",
    "\n",
    "\n",
    "# Matplotlib"
   ]
  },
  {
   "cell_type": "code",
   "execution_count": 122,
   "metadata": {},
   "outputs": [],
   "source": [
    "import matplotlib.pyplot as plt"
   ]
  },
  {
   "cell_type": "markdown",
   "metadata": {},
   "source": [
    "By running this special iPython command, we will be displaying plots inline\n",
    "\n",
    "\n",
    "%matplotlib inline"
   ]
  },
  {
   "cell_type": "code",
   "execution_count": 123,
   "metadata": {},
   "outputs": [],
   "source": [
    "%matplotlib inline"
   ]
  },
  {
   "cell_type": "code",
   "execution_count": 138,
   "metadata": {},
   "outputs": [
    {
     "name": "stdout",
     "output_type": "stream",
     "text": [
      "\n",
      "\n",
      " x: \n",
      " [1 3 5 4 1 3 6]\n",
      "\n",
      "\n",
      " y: \n",
      " [8 3 0 6 2 8 6]\n"
     ]
    },
    {
     "data": {
      "image/png": "[encoded data removed]",
      "text/plain": [
       "<Figure size 432x288 with 1 Axes>"
      ]
     },
     "metadata": {
      "needs_background": "light"
     },
     "output_type": "display_data"
    }
   ],
   "source": [
    "x = np.random.randint((9,9,9,9,9,9,9))\n",
    "y = np.random.randint((9,9,9,9,9,9,9))\n",
    "\n",
    "print(\"\\n\\n x: \\n\",x)\n",
    "print(\"\\n\\n y: \\n\",y)\n",
    "\n",
    "plt.scatter(x,y, color=\"r\")\n",
    "plt.grid()\n",
    "\n",
    "plt.xlim(0)\n",
    "plt.ylim(-1)\n",
    "\n",
    "plt.xlabel(\"X\")\n",
    "plt.ylabel(\"Y\")\n",
    "\n",
    "plt.plot(x,y, color=\"b\" )\n",
    "\n",
    "plt.show()"
   ]
  },
  {
   "cell_type": "code",
   "execution_count": null,
   "metadata": {},
   "outputs": [],
   "source": []
  },
  {
   "cell_type": "code",
   "execution_count": 153,
   "metadata": {},
   "outputs": [
    {
     "name": "stdout",
     "output_type": "stream",
     "text": [
      "\n",
      "\n",
      " x: \n",
      " [-1.00000000e+00 -9.00000000e-01 -8.00000000e-01 -7.00000000e-01\n",
      " -6.00000000e-01 -5.00000000e-01 -4.00000000e-01 -3.00000000e-01\n",
      " -2.00000000e-01 -1.00000000e-01 -2.22044605e-16  1.00000000e-01\n",
      "  2.00000000e-01  3.00000000e-01  4.00000000e-01  5.00000000e-01\n",
      "  6.00000000e-01  7.00000000e-01  8.00000000e-01  9.00000000e-01\n",
      "  1.00000000e+00  1.10000000e+00  1.20000000e+00  1.30000000e+00\n",
      "  1.40000000e+00  1.50000000e+00  1.60000000e+00  1.70000000e+00\n",
      "  1.80000000e+00  1.90000000e+00  2.00000000e+00  2.10000000e+00\n",
      "  2.20000000e+00  2.30000000e+00  2.40000000e+00  2.50000000e+00\n",
      "  2.60000000e+00  2.70000000e+00  2.80000000e+00  2.90000000e+00\n",
      "  3.00000000e+00  3.10000000e+00  3.20000000e+00  3.30000000e+00\n",
      "  3.40000000e+00  3.50000000e+00  3.60000000e+00  3.70000000e+00\n",
      "  3.80000000e+00  3.90000000e+00  4.00000000e+00  4.10000000e+00\n",
      "  4.20000000e+00  4.30000000e+00  4.40000000e+00  4.50000000e+00\n",
      "  4.60000000e+00  4.70000000e+00  4.80000000e+00  4.90000000e+00\n",
      "  5.00000000e+00  5.10000000e+00  5.20000000e+00  5.30000000e+00\n",
      "  5.40000000e+00  5.50000000e+00  5.60000000e+00  5.70000000e+00\n",
      "  5.80000000e+00  5.90000000e+00  6.00000000e+00  6.10000000e+00\n",
      "  6.20000000e+00  6.30000000e+00  6.40000000e+00  6.50000000e+00\n",
      "  6.60000000e+00  6.70000000e+00  6.80000000e+00  6.90000000e+00\n",
      "  7.00000000e+00  7.10000000e+00  7.20000000e+00  7.30000000e+00\n",
      "  7.40000000e+00  7.50000000e+00  7.60000000e+00  7.70000000e+00\n",
      "  7.80000000e+00  7.90000000e+00  8.00000000e+00  8.10000000e+00\n",
      "  8.20000000e+00  8.30000000e+00  8.40000000e+00  8.50000000e+00\n",
      "  8.60000000e+00  8.70000000e+00  8.80000000e+00  8.90000000e+00\n",
      "  9.00000000e+00  9.10000000e+00  9.20000000e+00  9.30000000e+00\n",
      "  9.40000000e+00]\n",
      "\n",
      "\n",
      " y: \n",
      " [-8.41470985e-01 -7.83326910e-01 -7.17356091e-01 -6.44217687e-01\n",
      " -5.64642473e-01 -4.79425539e-01 -3.89418342e-01 -2.95520207e-01\n",
      " -1.98669331e-01 -9.98334166e-02 -2.22044605e-16  9.98334166e-02\n",
      "  1.98669331e-01  2.95520207e-01  3.89418342e-01  4.79425539e-01\n",
      "  5.64642473e-01  6.44217687e-01  7.17356091e-01  7.83326910e-01\n",
      "  8.41470985e-01  8.91207360e-01  9.32039086e-01  9.63558185e-01\n",
      "  9.85449730e-01  9.97494987e-01  9.99573603e-01  9.91664810e-01\n",
      "  9.73847631e-01  9.46300088e-01  9.09297427e-01  8.63209367e-01\n",
      "  8.08496404e-01  7.45705212e-01  6.75463181e-01  5.98472144e-01\n",
      "  5.15501372e-01  4.27379880e-01  3.34988150e-01  2.39249329e-01\n",
      "  1.41120008e-01  4.15806624e-02 -5.83741434e-02 -1.57745694e-01\n",
      " -2.55541102e-01 -3.50783228e-01 -4.42520443e-01 -5.29836141e-01\n",
      " -6.11857891e-01 -6.87766159e-01 -7.56802495e-01 -8.18277111e-01\n",
      " -8.71575772e-01 -9.16165937e-01 -9.51602074e-01 -9.77530118e-01\n",
      " -9.93691004e-01 -9.99923258e-01 -9.96164609e-01 -9.82452613e-01\n",
      " -9.58924275e-01 -9.25814682e-01 -8.83454656e-01 -8.32267442e-01\n",
      " -7.72764488e-01 -7.05540326e-01 -6.31266638e-01 -5.50685543e-01\n",
      " -4.64602179e-01 -3.73876665e-01 -2.79415498e-01 -1.82162504e-01\n",
      " -8.30894028e-02  1.68139005e-02  1.16549205e-01  2.15119988e-01\n",
      "  3.11541364e-01  4.04849921e-01  4.94113351e-01  5.78439764e-01\n",
      "  6.56986599e-01  7.28969040e-01  7.93667864e-01  8.50436621e-01\n",
      "  8.98708096e-01  9.37999977e-01  9.67919672e-01  9.88168234e-01\n",
      "  9.98543345e-01  9.98941342e-01  9.89358247e-01  9.69889811e-01\n",
      "  9.40730557e-01  9.02171834e-01  8.54598908e-01  7.98487113e-01\n",
      "  7.34397098e-01  6.62969230e-01  5.84917193e-01  5.01020856e-01\n",
      "  4.12118485e-01  3.19098362e-01  2.22889914e-01  1.24454424e-01\n",
      "  2.47754255e-02]\n",
      "\n",
      "\n",
      " z: \n",
      " [ 0.54030231  0.62160997  0.69670671  0.76484219  0.82533561  0.87758256\n",
      "  0.92106099  0.95533649  0.98006658  0.99500417  1.          0.99500417\n",
      "  0.98006658  0.95533649  0.92106099  0.87758256  0.82533561  0.76484219\n",
      "  0.69670671  0.62160997  0.54030231  0.45359612  0.36235775  0.26749883\n",
      "  0.16996714  0.0707372  -0.02919952 -0.12884449 -0.22720209 -0.32328957\n",
      " -0.41614684 -0.5048461  -0.58850112 -0.66627602 -0.73739372 -0.80114362\n",
      " -0.85688875 -0.90407214 -0.94222234 -0.97095817 -0.9899925  -0.99913515\n",
      " -0.99829478 -0.98747977 -0.96679819 -0.93645669 -0.89675842 -0.84810003\n",
      " -0.79096771 -0.7259323  -0.65364362 -0.57482395 -0.49026082 -0.40079917\n",
      " -0.30733287 -0.2107958  -0.11215253 -0.01238866  0.08749898  0.18651237\n",
      "  0.28366219  0.37797774  0.46851667  0.55437434  0.63469288  0.70866977\n",
      "  0.77556588  0.83471278  0.88551952  0.92747843  0.96017029  0.98326844\n",
      "  0.9965421   0.99985864  0.99318492  0.97658763  0.95023259  0.91438315\n",
      "  0.86939749  0.8157251   0.75390225  0.68454667  0.60835131  0.52607752\n",
      "  0.43854733  0.34663532  0.25125984  0.15337386  0.05395542 -0.04600213\n",
      " -0.14550003 -0.24354415 -0.33915486 -0.43137684 -0.51928865 -0.6020119\n",
      " -0.67872005 -0.74864665 -0.81109301 -0.86543521 -0.91113026 -0.9477216\n",
      " -0.97484362 -0.99222533 -0.99969304]\n"
     ]
    },
    {
     "data": {
      "text/plain": [
       "[<matplotlib.lines.Line2D at 0x26d97c95d30>]"
      ]
     },
     "execution_count": 153,
     "metadata": {},
     "output_type": "execute_result"
    },
    {
     "data": {
      "image/png": "[encoded data removed]",
      "text/plain": [
       "<Figure size 432x288 with 1 Axes>"
      ]
     },
     "metadata": {
      "needs_background": "light"
     },
     "output_type": "display_data"
    }
   ],
   "source": [
    "x = np.arange(-1, 3* np.pi, 0.1)\n",
    "\n",
    "y = np.sin(x)\n",
    "z = np.cos(x)\n",
    "\n",
    "print(\"\\n\\n x: \\n\",x)\n",
    "print(\"\\n\\n y: \\n\",y)\n",
    "print(\"\\n\\n z: \\n\",z)\n",
    "\n",
    "plt.plot(x, y)\n",
    "plt.plot(x, z, color='r')"
   ]
  },
  {
   "cell_type": "code",
   "execution_count": 150,
   "metadata": {},
   "outputs": [
    {
     "data": {
      "text/plain": [
       "[<matplotlib.lines.Line2D at 0x26d97c75908>]"
      ]
     },
     "execution_count": 150,
     "metadata": {},
     "output_type": "execute_result"
    },
    {
     "data": {
      "image/png": "[encoded data removed]",
      "text/plain": [
       "<Figure size 432x288 with 1 Axes>"
      ]
     },
     "metadata": {
      "needs_background": "light"
     },
     "output_type": "display_data"
    }
   ],
   "source": [
    "x = np.arange(-1, 3* np.pi, 0.1)\n",
    "\n",
    "t = np.tan(x)\n",
    "\n",
    "plt.plot(x, t, color='b')"
   ]
  },
  {
   "cell_type": "markdown",
   "metadata": {},
   "source": [
    ".\n",
    "\n",
    "\n",
    "#### Subplot\n",
    "You can plot different things in the same gure using the subplot function."
   ]
  },
  {
   "cell_type": "code",
   "execution_count": 155,
   "metadata": {},
   "outputs": [
    {
     "data": {
      "image/png": "[encoded data removed]",
      "text/plain": [
       "<Figure size 432x288 with 2 Axes>"
      ]
     },
     "metadata": {
      "needs_background": "light"
     },
     "output_type": "display_data"
    }
   ],
   "source": [
    "# Compute the x and y coordinates for points on sine and cosine curves \n",
    "x = np.arange(-1, 3* np.pi, 0.1)\n",
    "\n",
    "y = np.sin(x)\n",
    "z = np.cos(x)\n",
    "\n",
    "plt.subplot(2, 1, 1)\n",
    "plt.plot(x,y)\n",
    "plt.title(\"Sine\")\n",
    "\n",
    "plt.subplot(2, 1, 2)\n",
    "plt.plot(x,z)\n",
    "plt.title(\"Cosine\")\n",
    "\n",
    "plt.show()"
   ]
  },
  {
   "cell_type": "code",
   "execution_count": null,
   "metadata": {},
   "outputs": [],
   "source": [
    " "
   ]
  },
  {
   "cell_type": "code",
   "execution_count": null,
   "metadata": {},
   "outputs": [],
   "source": []
  },
  {
   "cell_type": "code",
   "execution_count": null,
   "metadata": {},
   "outputs": [],
   "source": []
  },
  {
   "cell_type": "code",
   "execution_count": null,
   "metadata": {},
   "outputs": [],
   "source": []
  },
  {
   "cell_type": "code",
   "execution_count": null,
   "metadata": {},
   "outputs": [],
   "source": []
  }
 ],
 "metadata": {
  "kernelspec": {
   "display_name": "Python 3.6.8 64-bit",
   "language": "python",
   "name": "python36864bit6924ee5232d54cad8a7d5d8a8e3d3ddb"
  },
  "language_info": {
   "codemirror_mode": {
    "name": "ipython",
    "version": 3
   },
   "file_extension": ".py",
   "mimetype": "text/x-python",
   "name": "python",
   "nbconvert_exporter": "python",
   "pygments_lexer": "ipython3",
   "version": "3.6.8"
  }
 },
 "nbformat": 4,
 "nbformat_minor": 2
}
